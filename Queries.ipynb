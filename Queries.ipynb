{
 "cells": [
  {
   "cell_type": "markdown",
   "metadata": {},
   "source": [
    "1. Количество уникальных пользователей. (число)\n",
    "\n",
    "2. Средний возраст всех пользователей. (число)\n",
    "\n",
    "3. Средний возраст пользователей по странам. (страна - число)\n",
    "\n",
    "4. Min/max/avg количество сессий каждого пользователя (число, число, число)\n",
    "\n",
    "5. Среднее количество сессий для пользователей возраста 18-30, 30-40, 40+ (bin, число)\n",
    "\n",
    "6. Среднее время сессии для каждой страны (страна - число)\n",
    "\n",
    "7. Топ-10 пользователей по количеству сессий (имя, id, количество сессий)\n",
    "\n",
    "8. Получить пользователей, возраст которых 18-25, среднее время сессии больше 10 минут. (среднее время сессии, возраст, user_id). Использовать в запросе inner join."
   ]
  },
  {
   "cell_type": "markdown",
   "metadata": {},
   "source": [
    "### 1. Количество уникальных пользователей. (число)"
   ]
  },
  {
   "cell_type": "code",
   "execution_count": 2,
   "metadata": {},
   "outputs": [],
   "source": [
    "import sqlite3"
   ]
  },
  {
   "cell_type": "code",
   "execution_count": 3,
   "metadata": {},
   "outputs": [
    {
     "name": "stdout",
     "output_type": "stream",
     "text": [
      "Подключен к SQLite\n",
      "Количество уникальных пользователей:  1000\n",
      "Соединение с SQLite закрыто\n"
     ]
    }
   ],
   "source": [
    "try:\n",
    "    sqlite_connection = sqlite3.connect('App.db')\n",
    "    cursor = sqlite_connection.cursor()\n",
    "    print(\"Подключен к SQLite\")\n",
    "\n",
    "    sqlite_select_query = \"\"\"SELECT COUNT(DISTINCT user_id) FROM users\"\"\"\n",
    "    cursor.execute(sqlite_select_query)\n",
    "    records = cursor.fetchone()\n",
    "    print(\"Количество уникальных пользователей: \", *records)\n",
    "\n",
    "    cursor.close()\n",
    "\n",
    "except sqlite3.Error as error:\n",
    "    print(\"Ошибка при работе с SQLite\", error)\n",
    "finally:\n",
    "    if sqlite_connection:\n",
    "        sqlite_connection.close()\n",
    "        print(\"Соединение с SQLite закрыто\")"
   ]
  },
  {
   "cell_type": "markdown",
   "metadata": {},
   "source": [
    "### 2. Средний возраст всех пользователей. (число)"
   ]
  },
  {
   "cell_type": "code",
   "execution_count": 4,
   "metadata": {},
   "outputs": [
    {
     "name": "stdout",
     "output_type": "stream",
     "text": [
      "Подключен к SQLite\n",
      "Средний возраст всех пользователей:  24.388\n",
      "Соединение с SQLite закрыто\n"
     ]
    }
   ],
   "source": [
    "try:\n",
    "    sqlite_connection = sqlite3.connect('App.db')\n",
    "    cursor = sqlite_connection.cursor()\n",
    "    print(\"Подключен к SQLite\")\n",
    "\n",
    "    sqlite_select_query = \"\"\"SELECT AVG(age) FROM users\"\"\"\n",
    "    cursor.execute(sqlite_select_query)\n",
    "    records = cursor.fetchone()\n",
    "    print(\"Средний возраст всех пользователей: \", *records)\n",
    "    cursor.close()\n",
    "\n",
    "except sqlite3.Error as error:\n",
    "    print(\"Ошибка при работе с SQLite\", error)\n",
    "finally:\n",
    "    if sqlite_connection:\n",
    "        sqlite_connection.close()\n",
    "        print(\"Соединение с SQLite закрыто\")"
   ]
  },
  {
   "cell_type": "markdown",
   "metadata": {},
   "source": [
    "### 3. Средний возраст пользователей по странам. (страна - число)"
   ]
  },
  {
   "cell_type": "code",
   "execution_count": 5,
   "metadata": {},
   "outputs": [
    {
     "name": "stdout",
     "output_type": "stream",
     "text": [
      "Подключен к SQLite\n",
      "Albania : 24.458333333333332\n",
      "Andorra : 24.08695652173913\n",
      "Austria : 25.0\n",
      "Belarus : 24.692307692307693\n",
      "Belgium : 24.79310344827586\n",
      "Bosnia_and_Herzegovina : 25.476190476190474\n",
      "Bulgaria : 24.333333333333332\n",
      "Croatia : 22.68\n",
      "Czech_Republic(Czechia) : 23.61904761904762\n",
      "Denmark : 23.956521739130434\n",
      "Estonia : 24.5\n",
      "Finland : 23.36\n",
      "France : 24.444444444444443\n",
      "Germany : 25.5625\n",
      "Greece : 24.823529411764707\n",
      "Holy_See : 23.869565217391305\n",
      "Hungary : 25.041666666666668\n",
      "Iceland : 25.366666666666667\n",
      "Ireland : 24.0\n",
      "Italy : 23.470588235294116\n",
      "Latvia : 24.185185185185187\n",
      "Liechtenstein : 24.8\n",
      "Lithuania : 24.75\n",
      "Luxembourg : 25.033333333333335\n",
      "Malta : 23.61904761904762\n",
      "Moldova : 23.92\n",
      "Monaco : 24.555555555555557\n",
      "Montenegro : 23.8\n",
      "Netherlands : 25.47826086956522\n",
      "North_Macedonia : 22.761904761904763\n",
      "Norway : 24.0\n",
      "Poland : 25.181818181818183\n",
      "Portugal : 23.705882352941178\n",
      "Romania : 24.413793103448278\n",
      "Russia : 24.76\n",
      "San_Marino : 24.482758620689655\n",
      "Serbia : 24.5\n",
      "Slovakia : 24.666666666666668\n",
      "Slovenia : 23.227272727272727\n",
      "Spain : 24.428571428571427\n",
      "Sweden : 24.296296296296298\n",
      "Switzerland : 24.838709677419356\n",
      "Ukraine : 24.391304347826086\n",
      "United_Kingdom : 26.071428571428573\n",
      "Соединение с SQLite закрыто\n"
     ]
    }
   ],
   "source": [
    "try:\n",
    "    sqlite_connection = sqlite3.connect('App.db')\n",
    "    cursor = sqlite_connection.cursor()\n",
    "    print(\"Подключен к SQLite\")\n",
    "\n",
    "    sqlite_select_query = \"\"\"SELECT country, Avg(age) FROM users GROUP BY country\"\"\"\n",
    "    cursor.execute(sqlite_select_query)\n",
    "    records = cursor.fetchall()\n",
    "    for i in records:\n",
    "        print(i[0], ':', i[1])\n",
    "    cursor.close()\n",
    "\n",
    "except sqlite3.Error as error:\n",
    "    print(\"Ошибка при работе с SQLite\", error)\n",
    "finally:\n",
    "    if sqlite_connection:\n",
    "        sqlite_connection.close()\n",
    "        print(\"Соединение с SQLite закрыто\")"
   ]
  },
  {
   "cell_type": "markdown",
   "metadata": {},
   "source": [
    "### 4. Min/max/avg количество сессий каждого пользователя (число, число, число)"
   ]
  },
  {
   "cell_type": "code",
   "execution_count": 6,
   "metadata": {},
   "outputs": [
    {
     "name": "stdout",
     "output_type": "stream",
     "text": [
      "Подключен к SQLite\n",
      "Min количество сессий: 1\n",
      "Max количество сессий: 6\n",
      "AVG количество сессий: 6\n",
      "Соединение с SQLite закрыто\n"
     ]
    }
   ],
   "source": [
    "try:\n",
    "    sqlite_connection = sqlite3.connect('App.db')\n",
    "    cursor = sqlite_connection.cursor()\n",
    "    print(\"Подключен к SQLite\")\n",
    "\n",
    "    sqlite_select_query_1 = \"\"\"SELECT MIN(mycount)\n",
    "                            FROM (SELECT user_id, COUNT(session_id) mycount\n",
    "                                   FROM sessions\n",
    "                                   GROUP BY user_id);\"\"\"\n",
    "    cursor.execute(sqlite_select_query_1)\n",
    "    records_1 = cursor.fetchone()\n",
    "    print('Min количество сессий:', *records_1)\n",
    "    \n",
    "    sqlite_select_query_2 = \"\"\"SELECT MAX(mycount)\n",
    "                            FROM (SELECT user_id, COUNT(session_id) mycount\n",
    "                                  FROM sessions\n",
    "                                  GROUP BY user_id);\"\"\"\n",
    "    cursor.execute(sqlite_select_query_2)\n",
    "    records_2 = cursor.fetchone()\n",
    "    print('Max количество сессий:', *records_2)\n",
    "    \n",
    "    sqlite_select_query_3 = \"\"\"SELECT AVG(mycount)\n",
    "                            FROM (SELECT user_id, COUNT(session_id) mycount\n",
    "                                  FROM sessions\n",
    "                                  GROUP BY user_id);\"\"\"\n",
    "    cursor.execute(sqlite_select_query_2)\n",
    "    records_3 = cursor.fetchone()\n",
    "    print('AVG количество сессий:', *records_3)\n",
    "\n",
    "    cursor.close()\n",
    "\n",
    "except sqlite3.Error as error:\n",
    "    print(\"Ошибка при работе с SQLite\", error)\n",
    "finally:\n",
    "    if sqlite_connection:\n",
    "        sqlite_connection.close()\n",
    "        print(\"Соединение с SQLite закрыто\")"
   ]
  },
  {
   "cell_type": "markdown",
   "metadata": {},
   "source": [
    "### 5. Среднее количество сессий для пользователей возраста 18-30, 30-40, 40+ (bin, число)"
   ]
  },
  {
   "cell_type": "code",
   "execution_count": 7,
   "metadata": {},
   "outputs": [
    {
     "name": "stdout",
     "output_type": "stream",
     "text": [
      "Подключен к SQLite\n",
      "949\n",
      "18 - 30 : 949\n",
      "30 - 40 : 15\n",
      "40+ : 0\n",
      "Соединение с SQLite закрыто\n"
     ]
    }
   ],
   "source": [
    "try:\n",
    "    sqlite_connection = sqlite3.connect('App_test.db')\n",
    "    cursor = sqlite_connection.cursor()\n",
    "    print(\"Подключен к SQLite\")\n",
    "\n",
    "    sqlite_select_query = \"\"\"SELECT \n",
    "                            count(CASE WHEN age>= 18 AND age < 30 THEN 1 END) AS [18 - 30],\n",
    "                            count(CASE WHEN age>= 31 AND age < 40 THEN 1 END) AS [30 - 40],\n",
    "                            count(CASE WHEN age>= 41 AND age < 200 THEN 1 END) AS [40+]\n",
    "                            FROM (SELECT age FROM users) AS AgeGroups\"\"\"\n",
    "    cursor.execute(sqlite_select_query)\n",
    "    records = cursor.fetchall()\n",
    "    print(records[0][0])\n",
    "    print('18 - 30', ':', records[0][0])\n",
    "    print('30 - 40', ':', records[0][1])\n",
    "    print('40+', ':', records[0][2])\n",
    "\n",
    "    cursor.close()\n",
    "\n",
    "except sqlite3.Error as error:\n",
    "    print(\"Ошибка при работе с SQLite\", error)\n",
    "finally:\n",
    "    if sqlite_connection:\n",
    "        sqlite_connection.close()\n",
    "        print(\"Соединение с SQLite закрыто\")"
   ]
  },
  {
   "cell_type": "markdown",
   "metadata": {},
   "source": [
    "## 6. Среднее время сессии для каждой страны (страна - число)"
   ]
  },
  {
   "cell_type": "code",
   "execution_count": 9,
   "metadata": {},
   "outputs": [
    {
     "name": "stdout",
     "output_type": "stream",
     "text": [
      "Подключен к SQLite\n",
      "Albania : 570.0\n",
      "Andorra : 630.0\n",
      "Austria : 642.8571428571429\n",
      "Belarus : 540.0\n",
      "Belgium : 600.0\n",
      "Bosnia_and_Herzegovina : 390.0\n",
      "Bulgaria : 528.0\n",
      "Croatia : 550.0\n",
      "Czech_Republic(Czechia) : 615.0\n",
      "Denmark : 487.5\n",
      "Estonia : 533.3333333333334\n",
      "Finland : 705.0\n",
      "France : 630.0\n",
      "Germany : 420.0\n",
      "Greece : 582.0\n",
      "Holy_See : 520.0\n",
      "Hungary : 607.5\n",
      "Iceland : 492.0\n",
      "Ireland : 555.0\n",
      "Italy : 574.2857142857143\n",
      "Latvia : 540.0\n",
      "Liechtenstein : 570.0\n",
      "Lithuania : 592.0\n",
      "Luxembourg : 548.5714285714286\n",
      "Malta : 591.4285714285714\n",
      "Moldova : 513.3333333333334\n",
      "Monaco : 660.0\n",
      "Montenegro : 645.0\n",
      "Netherlands : 495.0\n",
      "North_Macedonia : 645.0\n",
      "Norway : 580.0\n",
      "Poland : 630.0\n",
      "Portugal : 630.0\n",
      "Romania : 540.0\n",
      "Russia : 630.0\n",
      "San_Marino : 548.5714285714286\n",
      "Serbia : 600.0\n",
      "Slovakia : 540.0\n",
      "Slovenia : 450.0\n",
      "Sweden : 530.0\n",
      "Switzerland : 552.0\n",
      "Ukraine : 680.0\n",
      "United_Kingdom : 582.8571428571429\n",
      "Соединение с SQLite закрыто\n"
     ]
    }
   ],
   "source": [
    "try:\n",
    "    sqlite_connection = sqlite3.connect('App.db')\n",
    "    cursor = sqlite_connection.cursor()\n",
    "    print(\"Подключен к SQLite\")\n",
    "\n",
    "    sqlite_select_query = \"\"\"SELECT country, AVG(CAST(strftime('%s', session_end) AS INT)-CAST(strftime('%s', session_start) AS INT)) \n",
    "                             FROM users INNER JOIN sessions USING(user_id) \n",
    "                             GROUP BY country\n",
    "                             \"\"\"\n",
    "    cursor.execute(sqlite_select_query)\n",
    "    records = cursor.fetchall()\n",
    "    for i in records:\n",
    "        print(i[0], ':', i[1])\n",
    "    cursor.close()\n",
    "\n",
    "except sqlite3.Error as error:\n",
    "    print(\"Ошибка при работе с SQLite\", error)\n",
    "finally:\n",
    "    if sqlite_connection:\n",
    "        sqlite_connection.close()\n",
    "        print(\"Соединение с SQLite закрыто\")"
   ]
  },
  {
   "cell_type": "markdown",
   "metadata": {},
   "source": [
    "## 7. Топ-10 пользователей по количеству сессий (id, имя, количество сессий)"
   ]
  },
  {
   "cell_type": "code",
   "execution_count": 10,
   "metadata": {},
   "outputs": [
    {
     "name": "stdout",
     "output_type": "stream",
     "text": [
      "Подключен к SQLite\n",
      "7580 Emery 6\n",
      "1222 Isabella 5\n",
      "1680 Jayla 5\n",
      "4419 Tristan 4\n",
      "4428 Mila 4\n",
      "4592 Nicholas 4\n",
      "4652 Jacob 4\n",
      "9419 Vanessa 4\n",
      "9669 Victor 4\n",
      "1521 Destiny 3\n",
      "Соединение с SQLite закрыто\n"
     ]
    }
   ],
   "source": [
    "try:\n",
    "    sqlite_connection = sqlite3.connect('App.db')\n",
    "    cursor = sqlite_connection.cursor()\n",
    "    print(\"Подключен к SQLite\")\n",
    "\n",
    "    sqlite_select_query = \"\"\"SELECT user_id, name, COUNT(session_id)\n",
    "                             FROM users INNER JOIN sessions USING(user_id)\n",
    "                             GROUP BY user_id\n",
    "                             ORDER BY 3 DESC\n",
    "                             LIMIT 10\n",
    "                             \"\"\"\n",
    "    cursor.execute(sqlite_select_query)\n",
    "    records = cursor.fetchall()\n",
    "    for i in records:\n",
    "        print(i[0], i[1], i[2])\n",
    "    cursor.close()\n",
    "\n",
    "except sqlite3.Error as error:\n",
    "    print(\"Ошибка при работе с SQLite\", error)\n",
    "finally:\n",
    "    if sqlite_connection:\n",
    "        sqlite_connection.close()\n",
    "        print(\"Соединение с SQLite закрыто\")"
   ]
  },
  {
   "cell_type": "markdown",
   "metadata": {},
   "source": [
    "## 8. Получить пользователей, возраст которых 18-25, среднее время сессии больше 10 минут. (среднее время сессии, возраст, user_id). Использовать в запросе inner join."
   ]
  },
  {
   "cell_type": "code",
   "execution_count": 11,
   "metadata": {},
   "outputs": [
    {
     "name": "stdout",
     "output_type": "stream",
     "text": [
      "Подключен к SQLite\n",
      "1015 Carson 27 630.0\n",
      "1152 Kai 24 690.0\n",
      "2762 Benjamin 24 720.0\n",
      "2772 David 24 740.0\n",
      "2879 Adalyn 24 660.0\n",
      "2894 Taylor 28 660.0\n",
      "3082 Adrian 26 840.0\n",
      "3354 Julian 22 660.0\n",
      "3455 Charlotte 26 640.0\n",
      "3583 Tristan 25 720.0\n",
      "4060 Audrey 21 660.0\n",
      "4170 Rylee 21 660.0\n",
      "4240 Brooklynn 26 840.0\n",
      "4320 Carson 23 780.0\n",
      "4333 Xavier 28 660.0\n",
      "4452 Gabriel 22 660.0\n",
      "5220 Ella 25 660.0\n",
      "5311 Londyn 19 740.0\n",
      "5438 Maverick 25 660.0\n",
      "5672 Claire 22 700.0\n",
      "5867 Luke 28 660.0\n",
      "5968 Jayce 28 630.0\n",
      "6433 Rylee 29 720.0\n",
      "6531 Levi 21 720.0\n",
      "6589 Jocelyn 26 660.0\n",
      "6951 Alyssa 21 660.0\n",
      "7318 Scarlett 21 620.0\n",
      "7597 Kennedy 22 840.0\n",
      "7704 Joshua 24 660.0\n",
      "7839 Serenity 20 620.0\n",
      "8330 Jonah 28 780.0\n",
      "8352 Ruby 27 720.0\n",
      "8916 Santiago 23 660.0\n",
      "9096 Jackson 23 640.0\n",
      "9232 Carson 24 660.0\n",
      "9263 Genesis 28 760.0\n",
      "9419 Vanessa 24 630.0\n",
      "Соединение с SQLite закрыто\n"
     ]
    }
   ],
   "source": [
    "try:\n",
    "    sqlite_connection = sqlite3.connect('App.db')\n",
    "    cursor = sqlite_connection.cursor()\n",
    "    print(\"Подключен к SQLite\")\n",
    "\n",
    "    sqlite_select_query = \"\"\"SELECT user_id, name, age, \n",
    "                             AVG(CAST(strftime('%s', session_end) AS INT)-CAST(strftime('%s', session_start) AS INT))\n",
    "                             FROM users INNER JOIN sessions USING(user_id)\n",
    "                             GROUP BY user_id\n",
    "                             HAVING age>= 18 AND age < 30 AND AVG(CAST(strftime('%s', session_end) AS INT)-CAST(strftime('%s', session_start) AS INT)) > 600\n",
    "                             \"\"\"\n",
    "    cursor.execute(sqlite_select_query)\n",
    "    records = cursor.fetchall()\n",
    "    for i in records:\n",
    "        print(i[0], i[1], i[2], i[3])\n",
    "    cursor.close()\n",
    "\n",
    "except sqlite3.Error as error:\n",
    "    print(\"Ошибка при работе с SQLite\", error)\n",
    "finally:\n",
    "    if sqlite_connection:\n",
    "        sqlite_connection.close()\n",
    "        print(\"Соединение с SQLite закрыто\")"
   ]
  },
  {
   "cell_type": "code",
   "execution_count": null,
   "metadata": {},
   "outputs": [],
   "source": []
  }
 ],
 "metadata": {
  "kernelspec": {
   "display_name": "Python 3",
   "language": "python",
   "name": "python3"
  },
  "language_info": {
   "codemirror_mode": {
    "name": "ipython",
    "version": 3
   },
   "file_extension": ".py",
   "mimetype": "text/x-python",
   "name": "python",
   "nbconvert_exporter": "python",
   "pygments_lexer": "ipython3",
   "version": "3.7.3"
  }
 },
 "nbformat": 4,
 "nbformat_minor": 4
}
